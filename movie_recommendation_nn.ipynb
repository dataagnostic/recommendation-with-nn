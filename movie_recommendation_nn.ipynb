{
 "cells": [
  {
   "cell_type": "code",
   "execution_count": 1,
   "id": "8d0157de",
   "metadata": {},
   "outputs": [],
   "source": [
    "import numpy as np\n",
    "import pandas as pd\n",
    "from matplotlib import pyplot as plt\n",
    "%matplotlib inline\n",
    "import seaborn as sns\n",
    "\n",
    "from keras.layers import Activation, Dropout, Dense, Input, Concatenate, Embedding\n",
    "from keras.layers import Flatten, BatchNormalization, Dot \n",
    "from keras.models import Sequential, Model, load_model\n",
    "from keras.layers import Flatten\n",
    "from keras.utils import plot_model\n",
    "from tensorflow.keras.optimizers import SGD\n",
    "from keras.callbacks import ModelCheckpoint \n",
    "\n",
    "from sklearn.model_selection import train_test_split"
   ]
  },
  {
   "cell_type": "code",
   "execution_count": 2,
   "id": "a166d58f",
   "metadata": {},
   "outputs": [
    {
     "data": {
      "text/html": [
       "<div>\n",
       "<style scoped>\n",
       "    .dataframe tbody tr th:only-of-type {\n",
       "        vertical-align: middle;\n",
       "    }\n",
       "\n",
       "    .dataframe tbody tr th {\n",
       "        vertical-align: top;\n",
       "    }\n",
       "\n",
       "    .dataframe thead th {\n",
       "        text-align: right;\n",
       "    }\n",
       "</style>\n",
       "<table border=\"1\" class=\"dataframe\">\n",
       "  <thead>\n",
       "    <tr style=\"text-align: right;\">\n",
       "      <th></th>\n",
       "      <th>userId</th>\n",
       "      <th>movieId</th>\n",
       "      <th>rating</th>\n",
       "      <th>timestamp</th>\n",
       "    </tr>\n",
       "  </thead>\n",
       "  <tbody>\n",
       "    <tr>\n",
       "      <th>0</th>\n",
       "      <td>1</td>\n",
       "      <td>296</td>\n",
       "      <td>5.0</td>\n",
       "      <td>1147880044</td>\n",
       "    </tr>\n",
       "    <tr>\n",
       "      <th>1</th>\n",
       "      <td>1</td>\n",
       "      <td>306</td>\n",
       "      <td>3.5</td>\n",
       "      <td>1147868817</td>\n",
       "    </tr>\n",
       "    <tr>\n",
       "      <th>2</th>\n",
       "      <td>1</td>\n",
       "      <td>307</td>\n",
       "      <td>5.0</td>\n",
       "      <td>1147868828</td>\n",
       "    </tr>\n",
       "    <tr>\n",
       "      <th>3</th>\n",
       "      <td>1</td>\n",
       "      <td>665</td>\n",
       "      <td>5.0</td>\n",
       "      <td>1147878820</td>\n",
       "    </tr>\n",
       "    <tr>\n",
       "      <th>4</th>\n",
       "      <td>1</td>\n",
       "      <td>899</td>\n",
       "      <td>3.5</td>\n",
       "      <td>1147868510</td>\n",
       "    </tr>\n",
       "  </tbody>\n",
       "</table>\n",
       "</div>"
      ],
      "text/plain": [
       "   userId  movieId  rating   timestamp\n",
       "0       1      296     5.0  1147880044\n",
       "1       1      306     3.5  1147868817\n",
       "2       1      307     5.0  1147868828\n",
       "3       1      665     5.0  1147878820\n",
       "4       1      899     3.5  1147868510"
      ]
     },
     "execution_count": 2,
     "metadata": {},
     "output_type": "execute_result"
    }
   ],
   "source": [
    "df = pd.read_csv(\"ml-25m/ratings.csv\")\n",
    "df.head()"
   ]
  },
  {
   "cell_type": "code",
   "execution_count": 3,
   "id": "01f82f3a",
   "metadata": {},
   "outputs": [
    {
     "data": {
      "text/plain": [
       "(25000095, 4)"
      ]
     },
     "execution_count": 3,
     "metadata": {},
     "output_type": "execute_result"
    }
   ],
   "source": [
    "df.shape"
   ]
  },
  {
   "cell_type": "code",
   "execution_count": 4,
   "id": "9cc74826",
   "metadata": {},
   "outputs": [
    {
     "data": {
      "text/plain": [
       "False"
      ]
     },
     "execution_count": 4,
     "metadata": {},
     "output_type": "execute_result"
    }
   ],
   "source": [
    "df.isnull().values.any()"
   ]
  },
  {
   "cell_type": "code",
   "execution_count": 5,
   "id": "e297d6a1",
   "metadata": {},
   "outputs": [
    {
     "data": {
      "text/plain": [
       "0"
      ]
     },
     "execution_count": 5,
     "metadata": {},
     "output_type": "execute_result"
    }
   ],
   "source": [
    "#check dup\n",
    "bol_dup = df.duplicated(subset=['userId','movieId'], keep ='last') \n",
    "sum(bol_dup)"
   ]
  },
  {
   "cell_type": "code",
   "execution_count": 5,
   "id": "8a20aac1",
   "metadata": {},
   "outputs": [
    {
     "data": {
      "text/plain": [
       "(16074718, 4)"
      ]
     },
     "execution_count": 5,
     "metadata": {},
     "output_type": "execute_result"
    }
   ],
   "source": [
    "df = df[df['timestamp'] >= 1104512400] # Year 2005-2019\n",
    "df.shape"
   ]
  },
  {
   "cell_type": "code",
   "execution_count": 6,
   "id": "dde0891b",
   "metadata": {},
   "outputs": [
    {
     "data": {
      "text/plain": [
       "<AxesSubplot:xlabel='rating', ylabel='count'>"
      ]
     },
     "execution_count": 6,
     "metadata": {},
     "output_type": "execute_result"
    },
    {
     "data": {
      "image/png": "[encoded data removed]",
      "text/plain": [
       "<Figure size 864x432 with 1 Axes>"
      ]
     },
     "metadata": {
      "needs_background": "light"
     },
     "output_type": "display_data"
    }
   ],
   "source": [
    "plt.figure(figsize=(12,6))\n",
    "sns.countplot(x='rating', data=df)"
   ]
  },
  {
   "cell_type": "code",
   "execution_count": 7,
   "id": "8e9e1c74",
   "metadata": {},
   "outputs": [
    {
     "name": "stdout",
     "output_type": "stream",
     "text": [
      "N:94745, M:59034\n"
     ]
    }
   ],
   "source": [
    "# Get number of users and number of movie\n",
    "N = df['userId'].nunique()\n",
    "M = df['movieId'].nunique()\n",
    "print(f'N:{N}, M:{M}')"
   ]
  },
  {
   "cell_type": "code",
   "execution_count": 8,
   "id": "96548497",
   "metadata": {},
   "outputs": [
    {
     "name": "stdout",
     "output_type": "stream",
     "text": [
      "162541\n",
      "209171\n"
     ]
    }
   ],
   "source": [
    "print(df['userId'].max())\n",
    "print(df['movieId'].max())"
   ]
  },
  {
   "cell_type": "code",
   "execution_count": 9,
   "id": "b9c5dd7c",
   "metadata": {},
   "outputs": [],
   "source": [
    "df['userId'] = pd.Categorical(df['userId'])\n",
    "df['new_user_id'] = df['userId'].cat.codes\n",
    "\n",
    "df['movieId'] = pd.Categorical(df['movieId'])\n",
    "df['new_movie_id'] = df['movieId'].cat.codes"
   ]
  },
  {
   "cell_type": "code",
   "execution_count": 10,
   "id": "f7c432eb",
   "metadata": {},
   "outputs": [
    {
     "data": {
      "text/html": [
       "<div>\n",
       "<style scoped>\n",
       "    .dataframe tbody tr th:only-of-type {\n",
       "        vertical-align: middle;\n",
       "    }\n",
       "\n",
       "    .dataframe tbody tr th {\n",
       "        vertical-align: top;\n",
       "    }\n",
       "\n",
       "    .dataframe thead th {\n",
       "        text-align: right;\n",
       "    }\n",
       "</style>\n",
       "<table border=\"1\" class=\"dataframe\">\n",
       "  <thead>\n",
       "    <tr style=\"text-align: right;\">\n",
       "      <th></th>\n",
       "      <th>userId</th>\n",
       "      <th>movieId</th>\n",
       "      <th>rating</th>\n",
       "      <th>timestamp</th>\n",
       "      <th>new_user_id</th>\n",
       "      <th>new_movie_id</th>\n",
       "    </tr>\n",
       "  </thead>\n",
       "  <tbody>\n",
       "    <tr>\n",
       "      <th>0</th>\n",
       "      <td>1</td>\n",
       "      <td>296</td>\n",
       "      <td>5.0</td>\n",
       "      <td>1147880044</td>\n",
       "      <td>0</td>\n",
       "      <td>292</td>\n",
       "    </tr>\n",
       "    <tr>\n",
       "      <th>1</th>\n",
       "      <td>1</td>\n",
       "      <td>306</td>\n",
       "      <td>3.5</td>\n",
       "      <td>1147868817</td>\n",
       "      <td>0</td>\n",
       "      <td>302</td>\n",
       "    </tr>\n",
       "    <tr>\n",
       "      <th>2</th>\n",
       "      <td>1</td>\n",
       "      <td>307</td>\n",
       "      <td>5.0</td>\n",
       "      <td>1147868828</td>\n",
       "      <td>0</td>\n",
       "      <td>303</td>\n",
       "    </tr>\n",
       "    <tr>\n",
       "      <th>3</th>\n",
       "      <td>1</td>\n",
       "      <td>665</td>\n",
       "      <td>5.0</td>\n",
       "      <td>1147878820</td>\n",
       "      <td>0</td>\n",
       "      <td>652</td>\n",
       "    </tr>\n",
       "    <tr>\n",
       "      <th>4</th>\n",
       "      <td>1</td>\n",
       "      <td>899</td>\n",
       "      <td>3.5</td>\n",
       "      <td>1147868510</td>\n",
       "      <td>0</td>\n",
       "      <td>873</td>\n",
       "    </tr>\n",
       "  </tbody>\n",
       "</table>\n",
       "</div>"
      ],
      "text/plain": [
       "  userId movieId  rating   timestamp  new_user_id  new_movie_id\n",
       "0      1     296     5.0  1147880044            0           292\n",
       "1      1     306     3.5  1147868817            0           302\n",
       "2      1     307     5.0  1147868828            0           303\n",
       "3      1     665     5.0  1147878820            0           652\n",
       "4      1     899     3.5  1147868510            0           873"
      ]
     },
     "execution_count": 10,
     "metadata": {},
     "output_type": "execute_result"
    }
   ],
   "source": [
    "df.head()"
   ]
  },
  {
   "cell_type": "code",
   "execution_count": 11,
   "id": "7d6f7cea",
   "metadata": {},
   "outputs": [
    {
     "name": "stdout",
     "output_type": "stream",
     "text": [
      "94744\n",
      "59033\n"
     ]
    }
   ],
   "source": [
    "print(df['new_user_id'].max())\n",
    "print(df['new_movie_id'].max())"
   ]
  },
  {
   "cell_type": "code",
   "execution_count": 12,
   "id": "b898971d",
   "metadata": {},
   "outputs": [],
   "source": [
    "map_user_id = df[[\"userId\", \"new_user_id\"]].drop_duplicates(subset=['userId', 'new_user_id']).sort_values(\"userId\")\n",
    "map_movie_id = df[[\"movieId\", \"new_movie_id\"]].drop_duplicates(subset=['movieId', 'new_movie_id']).sort_values(\"movieId\")\n",
    "map_user_id.to_csv('data/map_user_id.csv',index=False)\n",
    "map_movie_id.to_csv('data/map_movie_id.csv',index=False)"
   ]
  },
  {
   "cell_type": "code",
   "execution_count": 13,
   "id": "fe8e86f5",
   "metadata": {},
   "outputs": [
    {
     "data": {
      "text/html": [
       "<div>\n",
       "<style scoped>\n",
       "    .dataframe tbody tr th:only-of-type {\n",
       "        vertical-align: middle;\n",
       "    }\n",
       "\n",
       "    .dataframe tbody tr th {\n",
       "        vertical-align: top;\n",
       "    }\n",
       "\n",
       "    .dataframe thead th {\n",
       "        text-align: right;\n",
       "    }\n",
       "</style>\n",
       "<table border=\"1\" class=\"dataframe\">\n",
       "  <thead>\n",
       "    <tr style=\"text-align: right;\">\n",
       "      <th></th>\n",
       "      <th>movieId</th>\n",
       "      <th>new_movie_id</th>\n",
       "    </tr>\n",
       "  </thead>\n",
       "  <tbody>\n",
       "    <tr>\n",
       "      <th>18457961</th>\n",
       "      <td>209157</td>\n",
       "      <td>59029</td>\n",
       "    </tr>\n",
       "    <tr>\n",
       "      <th>17864443</th>\n",
       "      <td>209159</td>\n",
       "      <td>59030</td>\n",
       "    </tr>\n",
       "    <tr>\n",
       "      <th>1036618</th>\n",
       "      <td>209163</td>\n",
       "      <td>59031</td>\n",
       "    </tr>\n",
       "    <tr>\n",
       "      <th>18457962</th>\n",
       "      <td>209169</td>\n",
       "      <td>59032</td>\n",
       "    </tr>\n",
       "    <tr>\n",
       "      <th>18457963</th>\n",
       "      <td>209171</td>\n",
       "      <td>59033</td>\n",
       "    </tr>\n",
       "  </tbody>\n",
       "</table>\n",
       "</div>"
      ],
      "text/plain": [
       "         movieId  new_movie_id\n",
       "18457961  209157         59029\n",
       "17864443  209159         59030\n",
       "1036618   209163         59031\n",
       "18457962  209169         59032\n",
       "18457963  209171         59033"
      ]
     },
     "execution_count": 13,
     "metadata": {},
     "output_type": "execute_result"
    }
   ],
   "source": [
    "map_movie_id.tail()"
   ]
  },
  {
   "cell_type": "code",
   "execution_count": 24,
   "id": "7eb0cbc6",
   "metadata": {},
   "outputs": [],
   "source": [
    "train_set, test_set = train_test_split(df, test_size=0.2, random_state = 25)"
   ]
  },
  {
   "cell_type": "code",
   "execution_count": 25,
   "id": "c21d288d",
   "metadata": {},
   "outputs": [
    {
     "data": {
      "text/html": [
       "<div>\n",
       "<style scoped>\n",
       "    .dataframe tbody tr th:only-of-type {\n",
       "        vertical-align: middle;\n",
       "    }\n",
       "\n",
       "    .dataframe tbody tr th {\n",
       "        vertical-align: top;\n",
       "    }\n",
       "\n",
       "    .dataframe thead th {\n",
       "        text-align: right;\n",
       "    }\n",
       "</style>\n",
       "<table border=\"1\" class=\"dataframe\">\n",
       "  <thead>\n",
       "    <tr style=\"text-align: right;\">\n",
       "      <th></th>\n",
       "      <th>userId</th>\n",
       "      <th>movieId</th>\n",
       "      <th>rating</th>\n",
       "      <th>timestamp</th>\n",
       "      <th>new_user_id</th>\n",
       "      <th>new_movie_id</th>\n",
       "    </tr>\n",
       "  </thead>\n",
       "  <tbody>\n",
       "    <tr>\n",
       "      <th>89508</th>\n",
       "      <td>679</td>\n",
       "      <td>1527</td>\n",
       "      <td>2.5</td>\n",
       "      <td>1247880773</td>\n",
       "      <td>377</td>\n",
       "      <td>1468</td>\n",
       "    </tr>\n",
       "    <tr>\n",
       "      <th>19257122</th>\n",
       "      <td>124952</td>\n",
       "      <td>8874</td>\n",
       "      <td>4.0</td>\n",
       "      <td>1394414292</td>\n",
       "      <td>72863</td>\n",
       "      <td>8146</td>\n",
       "    </tr>\n",
       "    <tr>\n",
       "      <th>4638283</th>\n",
       "      <td>30329</td>\n",
       "      <td>1228</td>\n",
       "      <td>5.0</td>\n",
       "      <td>1407940633</td>\n",
       "      <td>17795</td>\n",
       "      <td>1190</td>\n",
       "    </tr>\n",
       "    <tr>\n",
       "      <th>17488381</th>\n",
       "      <td>113307</td>\n",
       "      <td>88125</td>\n",
       "      <td>4.0</td>\n",
       "      <td>1467573018</td>\n",
       "      <td>66202</td>\n",
       "      <td>16683</td>\n",
       "    </tr>\n",
       "    <tr>\n",
       "      <th>17429681</th>\n",
       "      <td>112925</td>\n",
       "      <td>115617</td>\n",
       "      <td>3.5</td>\n",
       "      <td>1556172930</td>\n",
       "      <td>65979</td>\n",
       "      <td>22368</td>\n",
       "    </tr>\n",
       "  </tbody>\n",
       "</table>\n",
       "</div>"
      ],
      "text/plain": [
       "          userId movieId  rating   timestamp  new_user_id  new_movie_id\n",
       "89508        679    1527     2.5  1247880773          377          1468\n",
       "19257122  124952    8874     4.0  1394414292        72863          8146\n",
       "4638283    30329    1228     5.0  1407940633        17795          1190\n",
       "17488381  113307   88125     4.0  1467573018        66202         16683\n",
       "17429681  112925  115617     3.5  1556172930        65979         22368"
      ]
     },
     "execution_count": 25,
     "metadata": {},
     "output_type": "execute_result"
    }
   ],
   "source": [
    "train_set.head()"
   ]
  },
  {
   "cell_type": "code",
   "execution_count": 26,
   "id": "66119bc5",
   "metadata": {},
   "outputs": [
    {
     "name": "stdout",
     "output_type": "stream",
     "text": [
      "Unique user in train: 94727\n",
      "Unique movie in train: 56665\n",
      "Unique user in test: 94378\n",
      "Unique movie in test: 39420\n"
     ]
    }
   ],
   "source": [
    "print(f\"Unique user in train: {train_set['userId'].nunique()}\")\n",
    "print(f\"Unique movie in train: {train_set['movieId'].nunique()}\")\n",
    "print(f\"Unique user in test: {test_set['userId'].nunique()}\")\n",
    "print(f\"Unique movie in test: {test_set['movieId'].nunique()}\")"
   ]
  },
  {
   "cell_type": "code",
   "execution_count": 31,
   "id": "f33efbcd",
   "metadata": {},
   "outputs": [
    {
     "name": "stdout",
     "output_type": "stream",
     "text": [
      "Number of user in test only: 18\n"
     ]
    }
   ],
   "source": [
    "print(f\"Number of user in test only: {len(set(test_set['userId'].unique()) - set(train_set['userId'].unique()))}\")"
   ]
  },
  {
   "cell_type": "code",
   "execution_count": 29,
   "id": "4dc1c3c5",
   "metadata": {},
   "outputs": [
    {
     "name": "stdout",
     "output_type": "stream",
     "text": [
      "Number of movie in test only: 2369\n"
     ]
    }
   ],
   "source": [
    "print(f\"Number of movie in test only: {len(set(test_set['movieId'].unique()) - set(train_set['movieId'].unique()))}\")"
   ]
  },
  {
   "cell_type": "code",
   "execution_count": 51,
   "id": "2278a5f8",
   "metadata": {},
   "outputs": [],
   "source": [
    "# Set embedding dimension\n",
    "K = 100"
   ]
  },
  {
   "cell_type": "code",
   "execution_count": 57,
   "id": "c072b3f3",
   "metadata": {},
   "outputs": [],
   "source": [
    "# Make a neural network\n",
    "\n",
    "# User input\n",
    "u = Input(shape=(1,))\n",
    "u_emb = Embedding(N, K)(u) \n",
    "u_vec = Flatten()(u_emb)\n",
    "\n",
    "\n",
    "# Movie input\n",
    "m = Input(shape=(1,))\n",
    "m_emb = Embedding(M, K)(m) \n",
    "m_vec = Flatten()(m_emb)\n",
    "\n",
    "\n",
    "# Concatenate or Dot user-movie embeddings\n",
    "x = Concatenate()([u_vec, m_vec])\n",
    "# x = Dot(normalize = True, axes=2)([u_vec, m_vec])\n",
    "\n",
    "# regular NN\n",
    "x = Dense(512, activation='relu')(x)\n",
    "x = BatchNormalization()(x)\n",
    "x = Dropout(0.2)(x)\n",
    "x = Dense(512, activation='relu')(x)\n",
    "x = BatchNormalization()(x)\n",
    "x = Dropout(0.2)(x)\n",
    "x = Dense(1, activation='relu')(x)"
   ]
  },
  {
   "cell_type": "code",
   "execution_count": 58,
   "id": "c7357c76",
   "metadata": {},
   "outputs": [],
   "source": [
    "u_model = Model(u, outputs=u_vec)\n",
    "m_model = Model(m, outputs=m_vec)\n",
    "model = Model(inputs=[u, m], outputs=x)\n",
    "model.compile(\n",
    "    loss='mae',\n",
    "    optimizer='adam'\n",
    "    #optimizer=SGD(lr=0.08, momentum=0.9)\n",
    ")"
   ]
  },
  {
   "cell_type": "code",
   "execution_count": 59,
   "id": "8dc3be2f",
   "metadata": {},
   "outputs": [
    {
     "name": "stdout",
     "output_type": "stream",
     "text": [
      "Model: \"model_11\"\n",
      "__________________________________________________________________________________________________\n",
      "Layer (type)                    Output Shape         Param #     Connected to                     \n",
      "==================================================================================================\n",
      "input_7 (InputLayer)            [(None, 1)]          0                                            \n",
      "__________________________________________________________________________________________________\n",
      "input_8 (InputLayer)            [(None, 1)]          0                                            \n",
      "__________________________________________________________________________________________________\n",
      "embedding_6 (Embedding)         (None, 1, 100)       9474500     input_7[0][0]                    \n",
      "__________________________________________________________________________________________________\n",
      "embedding_7 (Embedding)         (None, 1, 100)       5903400     input_8[0][0]                    \n",
      "__________________________________________________________________________________________________\n",
      "flatten_6 (Flatten)             (None, 100)          0           embedding_6[0][0]                \n",
      "__________________________________________________________________________________________________\n",
      "flatten_7 (Flatten)             (None, 100)          0           embedding_7[0][0]                \n",
      "__________________________________________________________________________________________________\n",
      "concatenate_3 (Concatenate)     (None, 200)          0           flatten_6[0][0]                  \n",
      "                                                                 flatten_7[0][0]                  \n",
      "__________________________________________________________________________________________________\n",
      "dense_11 (Dense)                (None, 512)          102912      concatenate_3[0][0]              \n",
      "__________________________________________________________________________________________________\n",
      "batch_normalization_6 (BatchNor (None, 512)          2048        dense_11[0][0]                   \n",
      "__________________________________________________________________________________________________\n",
      "dropout_6 (Dropout)             (None, 512)          0           batch_normalization_6[0][0]      \n",
      "__________________________________________________________________________________________________\n",
      "dense_12 (Dense)                (None, 512)          262656      dropout_6[0][0]                  \n",
      "__________________________________________________________________________________________________\n",
      "batch_normalization_7 (BatchNor (None, 512)          2048        dense_12[0][0]                   \n",
      "__________________________________________________________________________________________________\n",
      "dropout_7 (Dropout)             (None, 512)          0           batch_normalization_7[0][0]      \n",
      "__________________________________________________________________________________________________\n",
      "dense_13 (Dense)                (None, 1)            513         dropout_7[0][0]                  \n",
      "==================================================================================================\n",
      "Total params: 15,748,077\n",
      "Trainable params: 15,746,029\n",
      "Non-trainable params: 2,048\n",
      "__________________________________________________________________________________________________\n"
     ]
    }
   ],
   "source": [
    "model.summary()"
   ]
  },
  {
   "cell_type": "code",
   "execution_count": 60,
   "id": "49043a8c",
   "metadata": {},
   "outputs": [],
   "source": [
    "checkpoint = ModelCheckpoint('model/movie_rec.hdf5', save_best_only=True, monitor=\"val_loss\", mode='min', save_weights_only=False)  "
   ]
  },
  {
   "cell_type": "code",
   "execution_count": 61,
   "id": "fef5a7b2",
   "metadata": {},
   "outputs": [
    {
     "name": "stdout",
     "output_type": "stream",
     "text": [
      "Epoch 1/10\n",
      "12559/12559 [==============================] - 1100s 87ms/step - loss: 0.8068 - val_loss: 0.6133\n",
      "Epoch 2/10\n",
      "12559/12559 [==============================] - 1090s 87ms/step - loss: 0.6073 - val_loss: 0.5952\n",
      "Epoch 3/10\n",
      "12559/12559 [==============================] - 1060s 84ms/step - loss: 0.5745 - val_loss: 0.5707\n",
      "Epoch 4/10\n",
      "12559/12559 [==============================] - 1026s 82ms/step - loss: 0.5459 - val_loss: 0.5611\n",
      "Epoch 5/10\n",
      "12559/12559 [==============================] - 1033s 82ms/step - loss: 0.5274 - val_loss: 0.5550\n",
      "Epoch 6/10\n",
      "12559/12559 [==============================] - 1068s 85ms/step - loss: 0.5132 - val_loss: 0.5525\n",
      "Epoch 7/10\n",
      "12559/12559 [==============================] - 1066s 85ms/step - loss: 0.5005 - val_loss: 0.5513\n",
      "Epoch 8/10\n",
      "12559/12559 [==============================] - 1034s 82ms/step - loss: 0.4894 - val_loss: 0.5488\n",
      "Epoch 9/10\n",
      "12559/12559 [==============================] - 1024s 82ms/step - loss: 0.4795 - val_loss: 0.5499\n",
      "Epoch 10/10\n",
      "12559/12559 [==============================] - 1052s 84ms/step - loss: 0.4708 - val_loss: 0.5476\n"
     ]
    }
   ],
   "source": [
    "hist = model.fit(\n",
    "    x = [train_set.new_user_id, train_set.new_movie_id],\n",
    "    y = train_set.rating,\n",
    "    epochs = 10,\n",
    "    batch_size = 1024,\n",
    "    validation_data = ([test_set.new_user_id, test_set.new_movie_id], test_set.rating),\n",
    "    callbacks = [checkpoint]\n",
    ")"
   ]
  },
  {
   "cell_type": "code",
   "execution_count": 62,
   "id": "c32cb1f2",
   "metadata": {},
   "outputs": [
    {
     "data": {
      "image/png": "[encoded data removed]",
      "text/plain": [
       "<Figure size 432x288 with 1 Axes>"
      ]
     },
     "metadata": {
      "needs_background": "light"
     },
     "output_type": "display_data"
    }
   ],
   "source": [
    "# loss\n",
    "plt.plot(hist.history['loss'], label='train loss')\n",
    "plt.plot(hist.history['val_loss'], label='val loss')\n",
    "plt.title('Model loss')\n",
    "plt.legend()\n",
    "plt.show()"
   ]
  },
  {
   "cell_type": "code",
   "execution_count": 63,
   "id": "d39c8a96",
   "metadata": {},
   "outputs": [],
   "source": [
    "u_model.save('model/user_emb_model.h5')\n",
    "m_model.save('model/movie_emb_model.h5')"
   ]
  },
  {
   "cell_type": "code",
   "execution_count": 64,
   "id": "2e09fac1",
   "metadata": {},
   "outputs": [
    {
     "name": "stdout",
     "output_type": "stream",
     "text": [
      "Test results (model from the last epoch): Loss 0.5475968718528748\n",
      "Test results (model from the best epoch): Loss 0.5475968718528748\n"
     ]
    }
   ],
   "source": [
    "# Evaluate the model from the last epoch\n",
    "score = model.evaluate(x = [test_set.new_user_id, test_set.new_movie_id], y = test_set.rating , verbose=0 )\n",
    "print( f\"Test results (model from the last epoch): Loss {score}\" )\n",
    "\n",
    "# Load and evaluate the model from the best epoch\n",
    "best_model = load_model('model/movie_rec.hdf5', compile=True )\n",
    "score = best_model.evaluate(x = [test_set.new_user_id, test_set.new_movie_id], y = test_set.rating, verbose=0 )\n",
    "print( f\"Test results (model from the best epoch): Loss {score}\" )"
   ]
  },
  {
   "cell_type": "code",
   "execution_count": 72,
   "id": "368c70c4",
   "metadata": {},
   "outputs": [
    {
     "data": {
      "text/html": [
       "<div>\n",
       "<style scoped>\n",
       "    .dataframe tbody tr th:only-of-type {\n",
       "        vertical-align: middle;\n",
       "    }\n",
       "\n",
       "    .dataframe tbody tr th {\n",
       "        vertical-align: top;\n",
       "    }\n",
       "\n",
       "    .dataframe thead th {\n",
       "        text-align: right;\n",
       "    }\n",
       "</style>\n",
       "<table border=\"1\" class=\"dataframe\">\n",
       "  <thead>\n",
       "    <tr style=\"text-align: right;\">\n",
       "      <th></th>\n",
       "      <th>userId</th>\n",
       "      <th>movieId</th>\n",
       "      <th>rating</th>\n",
       "      <th>timestamp</th>\n",
       "      <th>new_user_id</th>\n",
       "      <th>new_movie_id</th>\n",
       "    </tr>\n",
       "  </thead>\n",
       "  <tbody>\n",
       "    <tr>\n",
       "      <th>14957314</th>\n",
       "      <td>96911</td>\n",
       "      <td>4090</td>\n",
       "      <td>4.0</td>\n",
       "      <td>1153081449</td>\n",
       "      <td>56605</td>\n",
       "      <td>3974</td>\n",
       "    </tr>\n",
       "    <tr>\n",
       "      <th>13175563</th>\n",
       "      <td>85289</td>\n",
       "      <td>47610</td>\n",
       "      <td>5.0</td>\n",
       "      <td>1520276729</td>\n",
       "      <td>49809</td>\n",
       "      <td>11002</td>\n",
       "    </tr>\n",
       "    <tr>\n",
       "      <th>5045746</th>\n",
       "      <td>32800</td>\n",
       "      <td>165</td>\n",
       "      <td>3.5</td>\n",
       "      <td>1153427745</td>\n",
       "      <td>19250</td>\n",
       "      <td>163</td>\n",
       "    </tr>\n",
       "    <tr>\n",
       "      <th>18160786</th>\n",
       "      <td>117610</td>\n",
       "      <td>77561</td>\n",
       "      <td>3.0</td>\n",
       "      <td>1444542737</td>\n",
       "      <td>68683</td>\n",
       "      <td>14605</td>\n",
       "    </tr>\n",
       "    <tr>\n",
       "      <th>9796346</th>\n",
       "      <td>63605</td>\n",
       "      <td>1721</td>\n",
       "      <td>0.5</td>\n",
       "      <td>1200538148</td>\n",
       "      <td>37252</td>\n",
       "      <td>1648</td>\n",
       "    </tr>\n",
       "  </tbody>\n",
       "</table>\n",
       "</div>"
      ],
      "text/plain": [
       "          userId movieId  rating   timestamp  new_user_id  new_movie_id\n",
       "14957314   96911    4090     4.0  1153081449        56605          3974\n",
       "13175563   85289   47610     5.0  1520276729        49809         11002\n",
       "5045746    32800     165     3.5  1153427745        19250           163\n",
       "18160786  117610   77561     3.0  1444542737        68683         14605\n",
       "9796346    63605    1721     0.5  1200538148        37252          1648"
      ]
     },
     "execution_count": 72,
     "metadata": {},
     "output_type": "execute_result"
    }
   ],
   "source": [
    "test_sample = test_set.sample(n=5)\n",
    "test_sample"
   ]
  },
  {
   "cell_type": "code",
   "execution_count": 73,
   "id": "effa3603",
   "metadata": {},
   "outputs": [
    {
     "data": {
      "text/plain": [
       "array([[4.1291227],\n",
       "       [4.9801235],\n",
       "       [3.78313  ],\n",
       "       [3.7203162],\n",
       "       [0.5302913]], dtype=float32)"
      ]
     },
     "execution_count": 73,
     "metadata": {},
     "output_type": "execute_result"
    }
   ],
   "source": [
    "best_model.predict([test_sample.new_user_id, test_sample.new_movie_id])"
   ]
  },
  {
   "cell_type": "markdown",
   "id": "bedc0e2f",
   "metadata": {},
   "source": [
    "## Extract Movie Embedding"
   ]
  },
  {
   "cell_type": "code",
   "execution_count": 161,
   "id": "c14d9bf2",
   "metadata": {},
   "outputs": [
    {
     "data": {
      "text/plain": [
       "(59034, 100)"
      ]
     },
     "execution_count": 161,
     "metadata": {},
     "output_type": "execute_result"
    }
   ],
   "source": [
    "movie_emb = m_model.predict(np.sort(df['new_movie_id'].unique()))\n",
    "movie_emb.shape"
   ]
  },
  {
   "cell_type": "markdown",
   "id": "f94a0e3a",
   "metadata": {},
   "source": [
    "Normalize the embeddings so that the dot product between two embeddings becomes the cosine similarity."
   ]
  },
  {
   "cell_type": "code",
   "execution_count": 165,
   "id": "4e4d91ef",
   "metadata": {},
   "outputs": [
    {
     "data": {
      "text/plain": [
       "1.0"
      ]
     },
     "execution_count": 165,
     "metadata": {},
     "output_type": "execute_result"
    }
   ],
   "source": [
    "norm_movie_emb = movie_emb / np.linalg.norm(movie_emb, axis = 1).reshape((-1, 1))\n",
    "np.sum(np.square(norm_movie_emb[0]))"
   ]
  },
  {
   "cell_type": "code",
   "execution_count": 224,
   "id": "6ab652cc",
   "metadata": {},
   "outputs": [],
   "source": [
    "# save norm_movie_emb \n",
    "# np.savez_compressed('data/norm_movie_emb.npz', norm_movie_emb)"
   ]
  },
  {
   "cell_type": "code",
   "execution_count": 225,
   "id": "1debc7db",
   "metadata": {},
   "outputs": [],
   "source": [
    "norm_movie_emb = np.load('data/norm_movie_emb.npz')['arr_0']"
   ]
  },
  {
   "cell_type": "code",
   "execution_count": 166,
   "id": "a5b27f66",
   "metadata": {},
   "outputs": [],
   "source": [
    "map_movie_id = pd.read_csv(\"data/map_movie_id.csv\")\n",
    "map_movie_name = pd.read_csv(\"ml-25m/movies.csv\")"
   ]
  },
  {
   "cell_type": "code",
   "execution_count": 167,
   "id": "6bb735ef",
   "metadata": {},
   "outputs": [
    {
     "data": {
      "text/html": [
       "<div>\n",
       "<style scoped>\n",
       "    .dataframe tbody tr th:only-of-type {\n",
       "        vertical-align: middle;\n",
       "    }\n",
       "\n",
       "    .dataframe tbody tr th {\n",
       "        vertical-align: top;\n",
       "    }\n",
       "\n",
       "    .dataframe thead th {\n",
       "        text-align: right;\n",
       "    }\n",
       "</style>\n",
       "<table border=\"1\" class=\"dataframe\">\n",
       "  <thead>\n",
       "    <tr style=\"text-align: right;\">\n",
       "      <th></th>\n",
       "      <th>movieId</th>\n",
       "      <th>new_movie_id</th>\n",
       "    </tr>\n",
       "  </thead>\n",
       "  <tbody>\n",
       "    <tr>\n",
       "      <th>0</th>\n",
       "      <td>1</td>\n",
       "      <td>0</td>\n",
       "    </tr>\n",
       "    <tr>\n",
       "      <th>1</th>\n",
       "      <td>2</td>\n",
       "      <td>1</td>\n",
       "    </tr>\n",
       "    <tr>\n",
       "      <th>2</th>\n",
       "      <td>3</td>\n",
       "      <td>2</td>\n",
       "    </tr>\n",
       "    <tr>\n",
       "      <th>3</th>\n",
       "      <td>4</td>\n",
       "      <td>3</td>\n",
       "    </tr>\n",
       "    <tr>\n",
       "      <th>4</th>\n",
       "      <td>5</td>\n",
       "      <td>4</td>\n",
       "    </tr>\n",
       "  </tbody>\n",
       "</table>\n",
       "</div>"
      ],
      "text/plain": [
       "   movieId  new_movie_id\n",
       "0        1             0\n",
       "1        2             1\n",
       "2        3             2\n",
       "3        4             3\n",
       "4        5             4"
      ]
     },
     "execution_count": 167,
     "metadata": {},
     "output_type": "execute_result"
    }
   ],
   "source": [
    "map_movie_id.head()"
   ]
  },
  {
   "cell_type": "code",
   "execution_count": 168,
   "id": "22ecc78b",
   "metadata": {},
   "outputs": [
    {
     "data": {
      "text/html": [
       "<div>\n",
       "<style scoped>\n",
       "    .dataframe tbody tr th:only-of-type {\n",
       "        vertical-align: middle;\n",
       "    }\n",
       "\n",
       "    .dataframe tbody tr th {\n",
       "        vertical-align: top;\n",
       "    }\n",
       "\n",
       "    .dataframe thead th {\n",
       "        text-align: right;\n",
       "    }\n",
       "</style>\n",
       "<table border=\"1\" class=\"dataframe\">\n",
       "  <thead>\n",
       "    <tr style=\"text-align: right;\">\n",
       "      <th></th>\n",
       "      <th>movieId</th>\n",
       "      <th>title</th>\n",
       "      <th>genres</th>\n",
       "    </tr>\n",
       "  </thead>\n",
       "  <tbody>\n",
       "    <tr>\n",
       "      <th>0</th>\n",
       "      <td>1</td>\n",
       "      <td>Toy Story (1995)</td>\n",
       "      <td>Adventure|Animation|Children|Comedy|Fantasy</td>\n",
       "    </tr>\n",
       "    <tr>\n",
       "      <th>1</th>\n",
       "      <td>2</td>\n",
       "      <td>Jumanji (1995)</td>\n",
       "      <td>Adventure|Children|Fantasy</td>\n",
       "    </tr>\n",
       "    <tr>\n",
       "      <th>2</th>\n",
       "      <td>3</td>\n",
       "      <td>Grumpier Old Men (1995)</td>\n",
       "      <td>Comedy|Romance</td>\n",
       "    </tr>\n",
       "    <tr>\n",
       "      <th>3</th>\n",
       "      <td>4</td>\n",
       "      <td>Waiting to Exhale (1995)</td>\n",
       "      <td>Comedy|Drama|Romance</td>\n",
       "    </tr>\n",
       "    <tr>\n",
       "      <th>4</th>\n",
       "      <td>5</td>\n",
       "      <td>Father of the Bride Part II (1995)</td>\n",
       "      <td>Comedy</td>\n",
       "    </tr>\n",
       "  </tbody>\n",
       "</table>\n",
       "</div>"
      ],
      "text/plain": [
       "   movieId                               title  \\\n",
       "0        1                    Toy Story (1995)   \n",
       "1        2                      Jumanji (1995)   \n",
       "2        3             Grumpier Old Men (1995)   \n",
       "3        4            Waiting to Exhale (1995)   \n",
       "4        5  Father of the Bride Part II (1995)   \n",
       "\n",
       "                                        genres  \n",
       "0  Adventure|Animation|Children|Comedy|Fantasy  \n",
       "1                   Adventure|Children|Fantasy  \n",
       "2                               Comedy|Romance  \n",
       "3                         Comedy|Drama|Romance  \n",
       "4                                       Comedy  "
      ]
     },
     "execution_count": 168,
     "metadata": {},
     "output_type": "execute_result"
    }
   ],
   "source": [
    "map_movie_name.head()"
   ]
  },
  {
   "cell_type": "code",
   "execution_count": 169,
   "id": "9d82ffb0",
   "metadata": {},
   "outputs": [],
   "source": [
    "# find n most similar items based on embeddings.\n",
    "def find_similar(idx, norm_emb=norm_movie_emb, n = 10):\n",
    "    try:\n",
    "        # Calculate dot product between book and all others\n",
    "        map_idx = map_movie_id[map_movie_id['movieId'] == idx]['new_movie_id'].values[0]\n",
    "        name = map_movie_name[map_movie_name['movieId'] == idx]['title'].values[0]\n",
    "        dists = np.dot(norm_movie_emb, norm_movie_emb[map_idx])\n",
    "    except KeyError:\n",
    "        print('ID Not Found.')\n",
    "        return\n",
    "    \n",
    "    # Sort distance indexes from smallest to largest\n",
    "    sorted_dists = np.argsort(dists)\n",
    "        \n",
    "    # Take the last n sorted distances\n",
    "    closest = sorted_dists[-n-1:-1]\n",
    "    print(f'Movie closest to {name}.\\n')\n",
    "    \n",
    "    # Print the most similar and distances\n",
    "    for i in reversed(closest):\n",
    "        old_idx = map_movie_id[map_movie_id['new_movie_id'] == i]['movieId'].values[0]\n",
    "        name = map_movie_name[map_movie_name['movieId'] == old_idx]['title'].values[0]\n",
    "        print(f\"Title: {name}  Similarity: {dists[i]}\")"
   ]
  },
  {
   "cell_type": "code",
   "execution_count": 199,
   "id": "294ded67",
   "metadata": {},
   "outputs": [
    {
     "name": "stdout",
     "output_type": "stream",
     "text": [
      "Pirates of the Caribbean: Dead Men Tell No Tales (2017)\n"
     ]
    }
   ],
   "source": [
    "sample_movie = df.sample(n=1)['movieId'].values[0]\n",
    "print(map_movie_name[map_movie_name['movieId'] == sample_movie]['title'].values[0])"
   ]
  },
  {
   "cell_type": "code",
   "execution_count": 200,
   "id": "37cee0ed",
   "metadata": {},
   "outputs": [
    {
     "name": "stdout",
     "output_type": "stream",
     "text": [
      "Movie closest to Pirates of the Caribbean: Dead Men Tell No Tales (2017).\n",
      "\n",
      "Title: Pirates of the Caribbean: On Stranger Tides (2011)  Similarity: 0.8317283987998962\n",
      "Title: Pirates of the Caribbean: At World's End (2007)  Similarity: 0.7753196358680725\n",
      "Title: Pirates of the Caribbean: Dead Man's Chest (2006)  Similarity: 0.7303357124328613\n",
      "Title: X-Men Origins: Wolverine (2009)  Similarity: 0.7125404477119446\n",
      "Title: Love Sick Love (2013)  Similarity: 0.7037768363952637\n"
     ]
    }
   ],
   "source": [
    "find_similar(sample_movie, n=5)"
   ]
  },
  {
   "cell_type": "code",
   "execution_count": 201,
   "id": "6564a210",
   "metadata": {},
   "outputs": [
    {
     "name": "stdout",
     "output_type": "stream",
     "text": [
      "Movie closest to Harry Potter and the Sorcerer's Stone (a.k.a. Harry Potter and the Philosopher's Stone) (2001).\n",
      "\n",
      "Title: Harry Potter and the Chamber of Secrets (2002)  Similarity: 0.9692865610122681\n",
      "Title: Harry Potter and the Goblet of Fire (2005)  Similarity: 0.9480034708976746\n",
      "Title: Harry Potter and the Half-Blood Prince (2009)  Similarity: 0.9457117319107056\n",
      "Title: Harry Potter and the Order of the Phoenix (2007)  Similarity: 0.9392329454421997\n",
      "Title: Harry Potter and the Deathly Hallows: Part 1 (2010)  Similarity: 0.9314091205596924\n"
     ]
    }
   ],
   "source": [
    "find_similar(4896, n=5)"
   ]
  },
  {
   "cell_type": "code",
   "execution_count": 202,
   "id": "b78ccb9a",
   "metadata": {},
   "outputs": [
    {
     "name": "stdout",
     "output_type": "stream",
     "text": [
      "Movie closest to Captain America: The First Avenger (2011).\n",
      "\n",
      "Title: Captain America: The Winter Soldier (2014)  Similarity: 0.8701038956642151\n",
      "Title: Captain America: Civil War (2016)  Similarity: 0.8551232814788818\n",
      "Title: Thor (2011)  Similarity: 0.8490999937057495\n",
      "Title: Avengers: Age of Ultron (2015)  Similarity: 0.8402939438819885\n",
      "Title: Ant-Man (2015)  Similarity: 0.8156973123550415\n"
     ]
    }
   ],
   "source": [
    "find_similar(88140, n=5)"
   ]
  },
  {
   "cell_type": "code",
   "execution_count": 210,
   "id": "57c65aa7",
   "metadata": {},
   "outputs": [
    {
     "name": "stdout",
     "output_type": "stream",
     "text": [
      "Movie closest to Zootopia (2016).\n",
      "\n",
      "Title: Big Hero 6 (2014)  Similarity: 0.8219715356826782\n",
      "Title: How to Train Your Dragon (2010)  Similarity: 0.7858184576034546\n",
      "Title: Wreck-It Ralph (2012)  Similarity: 0.7845187187194824\n",
      "Title: Inside Out (2015)  Similarity: 0.7720567584037781\n",
      "Title: Tangled (2010)  Similarity: 0.7612001299858093\n"
     ]
    }
   ],
   "source": [
    "find_similar(152081, n=5)"
   ]
  }
 ],
 "metadata": {
  "kernelspec": {
   "display_name": "Python 3 (ipykernel)",
   "language": "python",
   "name": "python3"
  },
  "language_info": {
   "codemirror_mode": {
    "name": "ipython",
    "version": 3
   },
   "file_extension": ".py",
   "mimetype": "text/x-python",
   "name": "python",
   "nbconvert_exporter": "python",
   "pygments_lexer": "ipython3",
   "version": "3.7.3"
  }
 },
 "nbformat": 4,
 "nbformat_minor": 5
}
